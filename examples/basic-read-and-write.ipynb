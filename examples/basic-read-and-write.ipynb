{
 "cells": [
  {
   "cell_type": "markdown",
   "metadata": {},
   "source": [
    "# Basic read and write operations"
   ]
  },
  {
   "cell_type": "markdown",
   "metadata": {},
   "source": [
    "In this example we will explore how to create and read a simple Lightning Memory-Mapped Database (LMDB) using `pyxis`."
   ]
  },
  {
   "cell_type": "markdown",
   "metadata": {},
   "source": [
    "## Writing data"
   ]
  },
  {
   "cell_type": "code",
   "execution_count": 1,
   "metadata": {},
   "outputs": [],
   "source": [
    "from __future__ import print_function\n",
    "\n",
    "import time\n",
    "\n",
    "import numpy as np\n",
    "\n",
    "import pyxis as px"
   ]
  },
  {
   "cell_type": "code",
   "execution_count": 2,
   "metadata": {},
   "outputs": [],
   "source": [
    "np.random.seed(1234)"
   ]
  },
  {
   "cell_type": "markdown",
   "metadata": {},
   "source": [
    "Let's start by creating some data that we can store. `2000` images with shape `(254, 254, 3)` along with `2000` targets are generated."
   ]
  },
  {
   "cell_type": "code",
   "execution_count": 3,
   "metadata": {},
   "outputs": [],
   "source": [
    "nb_samples = 2000\n",
    "\n",
    "X = np.zeros((nb_samples, 254, 254, 3), dtype=np.uint8)\n",
    "y = np.arange(nb_samples, dtype=np.uint8)"
   ]
  },
  {
   "cell_type": "markdown",
   "metadata": {},
   "source": [
    "The tenth image is set to be a completely red image."
   ]
  },
  {
   "cell_type": "code",
   "execution_count": 4,
   "metadata": {},
   "outputs": [],
   "source": [
    "X[10, :, :, 0] = 255"
   ]
  },
  {
   "cell_type": "markdown",
   "metadata": {},
   "source": [
    "In the next step we instantiate a `pyxis` writer to write the data we created above to a directory called `data`."
   ]
  },
  {
   "cell_type": "code",
   "execution_count": 5,
   "metadata": {},
   "outputs": [],
   "source": [
    "db = px.Writer(dirpath='data', map_size_limit=500, ram_gb_limit=2)"
   ]
  },
  {
   "cell_type": "markdown",
   "metadata": {},
   "source": [
    "The `map_size_limit` is the size of the LMDB in MB. For file systems running *ext4*, there is no big cost associated with making this big. `ram_size_limit` is the limit on how many GB of data we can push per write operation.\n",
    "\n",
    "When the LMDB writer is set up, we can run the `pyxis.put_samples` function to write data. Ideally you should send large data blobs at once. Here we will write all the `2000` samples generated above at once. If the size of the data you have is larger than the size of your RAM, then you can perform multiple calls to `pyxis.put_samples`."
   ]
  },
  {
   "cell_type": "code",
   "execution_count": 6,
   "metadata": {},
   "outputs": [
    {
     "name": "stdout",
     "output_type": "stream",
     "text": [
      "Average time per image = 0.0016s\n"
     ]
    }
   ],
   "source": [
    "start = time.time()\n",
    "\n",
    "db.put_samples('X', X, 'y', y)\n",
    "\n",
    "print('Average time per image = {:.4f}s'.format((time.time() - start) / nb_samples))"
   ]
  },
  {
   "cell_type": "markdown",
   "metadata": {},
   "source": [
    "Data can be input in two different ways:\n",
    "\n",
    "* `pyxis.put_samples('key1', value1, 'key2', value2, ...)`\n",
    "* `pyxis.put_samples({'key1': value1, 'key2': value2, ...})`\n",
    "\n",
    "The code example above uses the first option with alternating keys and values. The second option is simply a Python dictionary.\n",
    "\n",
    "There are two requirements of data that is put in a `pyxis` database:\n",
    "\n",
    "* All values must have the type `numpy.ndarray`.\n",
    "* The first axis in all values must represent the sample number."
   ]
  },
  {
   "cell_type": "markdown",
   "metadata": {},
   "source": [
    "Make sure to close the LMDB environment after writing. The close operation makes sure to store the number of samples that has been written."
   ]
  },
  {
   "cell_type": "code",
   "execution_count": 7,
   "metadata": {},
   "outputs": [],
   "source": [
    "db.close()"
   ]
  },
  {
   "cell_type": "markdown",
   "metadata": {},
   "source": [
    "## Reading data"
   ]
  },
  {
   "cell_type": "code",
   "execution_count": 8,
   "metadata": {},
   "outputs": [],
   "source": [
    "try:\n",
    "    %matplotlib inline\n",
    "    import matplotlib.pyplot as plt\n",
    "except ImportError:\n",
    "    raise ImportError('Could not import the matplotlib library required to '\n",
    "                      'plot images. Please refer to http://matplotlib.org/ '\n",
    "                      'for installation instructions.')"
   ]
  },
  {
   "cell_type": "markdown",
   "metadata": {},
   "source": [
    "To read data from a LMDB we instantiate a `pyxis` reader using the directory of the database."
   ]
  },
  {
   "cell_type": "code",
   "execution_count": 9,
   "metadata": {},
   "outputs": [],
   "source": [
    "db = px.Reader('data')"
   ]
  },
  {
   "cell_type": "markdown",
   "metadata": {},
   "source": [
    "All addressable keys can be found by calling the `pyxis.get_data_keys` function:"
   ]
  },
  {
   "cell_type": "code",
   "execution_count": 10,
   "metadata": {},
   "outputs": [
    {
     "data": {
      "text/plain": [
       "['X', 'y']"
      ]
     },
     "execution_count": 10,
     "metadata": {},
     "output_type": "execute_result"
    }
   ],
   "source": [
    "db.get_data_keys()"
   ]
  },
  {
   "cell_type": "markdown",
   "metadata": {},
   "source": [
    "The `pyxis.get_sample` function can be used to retrieve an entire sample from the LMDB. The returned value is a Python dictionary, addressable by the keys used when writing the database."
   ]
  },
  {
   "cell_type": "code",
   "execution_count": 11,
   "metadata": {},
   "outputs": [
    {
     "name": "stdout",
     "output_type": "stream",
     "text": [
      "X:  (254, 254, 3) uint8\n",
      "y:  () uint8\n"
     ]
    }
   ],
   "source": [
    "sample = db.get_sample(10)\n",
    "print('X: ', sample['X'].shape, sample['X'].dtype)\n",
    "print('y: ', sample['y'].shape, sample['y'].dtype)"
   ]
  },
  {
   "cell_type": "markdown",
   "metadata": {},
   "source": [
    "The code snippet above retrieves the tenth sample, i.e. the one with the red image."
   ]
  },
  {
   "cell_type": "code",
   "execution_count": 12,
   "metadata": {},
   "outputs": [
    {
     "data": {
      "image/png": "[encoded data removed]",
      "text/plain": [
       "<matplotlib.figure.Figure at 0x1754ece8198>"
      ]
     },
     "metadata": {},
     "output_type": "display_data"
    }
   ],
   "source": [
    "plt.figure()\n",
    "plt.imshow(sample['X'])\n",
    "plt.axis('off')\n",
    "plt.show()"
   ]
  },
  {
   "cell_type": "markdown",
   "metadata": {},
   "source": [
    "Data within a sample can be retrieved directly by using the `pyxis.get_data_value` function. Here we ask the LMDB for the hundredth `y` value."
   ]
  },
  {
   "cell_type": "code",
   "execution_count": 13,
   "metadata": {},
   "outputs": [
    {
     "data": {
      "text/plain": [
       "array(100, dtype=uint8)"
      ]
     },
     "execution_count": 13,
     "metadata": {},
     "output_type": "execute_result"
    }
   ],
   "source": [
    "db.get_data_value(100, 'y')"
   ]
  },
  {
   "cell_type": "markdown",
   "metadata": {},
   "source": [
    "Just like when writing, we should make sure to close the LMDB environment after we are done reading."
   ]
  },
  {
   "cell_type": "code",
   "execution_count": 14,
   "metadata": {},
   "outputs": [],
   "source": [
    "db.close()"
   ]
  }
 ],
 "metadata": {
  "anaconda-cloud": {},
  "kernelspec": {
   "display_name": "Python 3",
   "language": "python",
   "name": "python3"
  },
  "language_info": {
   "codemirror_mode": {
    "name": "ipython",
    "version": 3
   },
   "file_extension": ".py",
   "mimetype": "text/x-python",
   "name": "python",
   "nbconvert_exporter": "python",
   "pygments_lexer": "ipython3",
   "version": "3.6.4"
  }
 },
 "nbformat": 4,
 "nbformat_minor": 1
}
